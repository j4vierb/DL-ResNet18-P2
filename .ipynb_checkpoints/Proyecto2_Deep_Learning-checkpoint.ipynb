{
 "cells": [
  {
   "cell_type": "markdown",
   "id": "c17cd19c-64df-40fd-9510-e67deab5d55c",
   "metadata": {},
   "source": [
    "# Proyecto 2 - Deep Learning\n",
    "\n",
    "## Integrantes\n",
    "\n",
    "- Santiago Florez - \n",
    "- Javier Barrera - 202214779\n",
    "- Ana\n",
    "\n",
    "## Punto 1"
   ]
  },
  {
   "cell_type": "code",
   "execution_count": 1,
   "id": "9472be2e-8205-4f87-941a-c7430c46285b",
   "metadata": {},
   "outputs": [],
   "source": [
    "import numpy as np\n",
    "import torch\n",
    "import torch.nn as nn\n",
    "import torch.optim as optim\n",
    "from torchvision import datasets, transforms, models\n",
    "from torchvision.models import ResNet18_Weights\n",
    "from torch.utils.data import DataLoader, Subset\n",
    "from sklearn.model_selection import train_test_split\n",
    "import matplotlib.pyplot as plt"
   ]
  },
  {
   "cell_type": "code",
   "execution_count": 2,
   "id": "d268ad9b-f254-4ee1-ab75-cd0c8b646a40",
   "metadata": {},
   "outputs": [
    {
     "name": "stdout",
     "output_type": "stream",
     "text": [
      "Usando dispositivo: cpu\n"
     ]
    }
   ],
   "source": [
    "# =====================================\n",
    "# CONFIGURAR DISPOSITIVO\n",
    "# =====================================\n",
    "device = torch.device(\"cuda\" if torch.cuda.is_available() else \"cpu\")\n",
    "print(\"Usando dispositivo:\", device)"
   ]
  },
  {
   "cell_type": "code",
   "execution_count": 3,
   "id": "fe044ac9-2dca-4e07-bd3a-2356a4e0fd26",
   "metadata": {},
   "outputs": [],
   "source": [
    "# =====================================\n",
    "# TRANSFORMACIONES (3 canales para ResNet)\n",
    "# =====================================\n",
    "transform_train = transforms.Compose([\n",
    "    transforms.Resize((224, 224)),\n",
    "    transforms.RandomHorizontalFlip(),\n",
    "    transforms.RandomRotation(10),\n",
    "    transforms.ToTensor(),\n",
    "    transforms.Normalize([0.485, 0.456, 0.406],\n",
    "                         [0.229, 0.224, 0.225])\n",
    "])\n",
    "transform_test = transforms.Compose([\n",
    "    transforms.Resize((224, 224)),\n",
    "    transforms.ToTensor(),\n",
    "    transforms.Normalize([0.485, 0.456, 0.406],\n",
    "                         [0.229, 0.224, 0.225])\n",
    "])"
   ]
  },
  {
   "cell_type": "code",
   "execution_count": 7,
   "id": "afbdd80e",
   "metadata": {
    "scrolled": true
   },
   "outputs": [],
   "source": [
    "# =====================================\n",
    "# CARGA DE DATOS Y PARTICIÓN\n",
    "# =====================================\n",
    "dataset = datasets.ImageFolder(\"DataSnake/CLASIFICADOR SNAKES\")\n",
    "class_names = dataset.classes\n",
    "\n",
    "targets = np.array(dataset.targets)\n",
    "\n",
    "train_idx, test_idx = train_test_split(\n",
    "    np.arange(len(targets)),\n",
    "    test_size=0.1,\n",
    "    stratify=targets,\n",
    "    random_state=42\n",
    ")\n",
    "\n",
    "train_dataset = datasets.ImageFolder(\"DataSnake/CLASIFICADOR SNAKES\", transform=transform_train)\n",
    "test_dataset = datasets.ImageFolder(\"DataSnake/CLASIFICADOR SNAKES\", transform=transform_test)\n",
    "\n",
    "train_dataset = Subset(train_dataset, train_idx)\n",
    "test_dataset = Subset(test_dataset, test_idx)\n",
    "\n",
    "batch_size = 16\n",
    "train_loader = DataLoader(train_dataset, batch_size=batch_size, shuffle=True, num_workers=4, pin_memory=True)\n",
    "test_loader = DataLoader(test_dataset, batch_size=batch_size, shuffle=False, num_workers=4, pin_memory=True)"
   ]
  },
  {
   "cell_type": "code",
   "execution_count": 8,
   "id": "f910b151-060a-4dad-8987-56eb24d114c2",
   "metadata": {},
   "outputs": [
    {
     "name": "stdout",
     "output_type": "stream",
     "text": [
      "Downloading: \"https://download.pytorch.org/models/resnet18-f37072fd.pth\" to C:\\Users\\javier/.cache\\torch\\hub\\checkpoints\\resnet18-f37072fd.pth\n"
     ]
    },
    {
     "name": "stderr",
     "output_type": "stream",
     "text": [
      "100.0%\n"
     ]
    }
   ],
   "source": [
    "# =====================================\n",
    "# CARGAR RESNET18 PREENTRENADA Y MODIFICAR CABEZA\n",
    "# =====================================\n",
    "resnet18 = models.resnet18(weights=ResNet18_Weights.DEFAULT)\n",
    "\n",
    "# Congelar capas convolucionales\n",
    "for param in resnet18.parameters():\n",
    "    param.requires_grad = False\n",
    "\n",
    "num_features = resnet18.fc.in_features\n",
    "resnet18.fc = nn.Sequential(\n",
    "    nn.Linear(num_features, 128),\n",
    "    nn.ReLU(),\n",
    "    nn.Dropout(0.3),\n",
    "    nn.Linear(128, len(class_names))\n",
    ")\n",
    "\n",
    "resnet18 = resnet18.to(device)\n",
    "\n",
    "optimizer = optim.Adam(resnet18.fc.parameters(), lr=0.001)\n",
    "criterion = nn.CrossEntropyLoss()"
   ]
  },
  {
   "cell_type": "code",
   "execution_count": 9,
   "id": "6aca335c-23b7-4d97-a79b-d2a47e830935",
   "metadata": {},
   "outputs": [],
   "source": [
    "# =====================================\n",
    "# FUNCIONES DE ENTRENAMIENTO Y EVALUACIÓN\n",
    "# =====================================\n",
    "def evaluate_model(model, loader):\n",
    "    model.eval()\n",
    "    correct, total = 0, 0\n",
    "    with torch.no_grad():\n",
    "        for inputs, labels in loader:\n",
    "            inputs, labels = inputs.to(device), labels.to(device)\n",
    "            outputs = model(inputs)\n",
    "            _, preds = torch.max(outputs, 1)\n",
    "            correct += (preds == labels).sum().item()\n",
    "            total += labels.size(0)\n",
    "    return correct / total\n",
    "\n",
    "\n",
    "def train_model(model, train_loader, test_loader, optimizer, criterion, epochs=10):\n",
    "    history = {\"train_loss\": [], \"test_acc\": []}\n",
    "\n",
    "    for epoch in range(1, epochs + 1):\n",
    "        model.train()\n",
    "        total_loss = 0\n",
    "\n",
    "        for inputs, labels in train_loader:\n",
    "            inputs, labels = inputs.to(device), labels.to(device)\n",
    "            optimizer.zero_grad()\n",
    "            outputs = model(inputs)\n",
    "            loss = criterion(outputs, labels)\n",
    "            loss.backward()\n",
    "            optimizer.step()\n",
    "            total_loss += loss.item() * inputs.size(0)\n",
    "\n",
    "        avg_loss = total_loss / len(train_loader.dataset)\n",
    "        acc = evaluate_model(model, test_loader)\n",
    "\n",
    "        history[\"train_loss\"].append(avg_loss)\n",
    "        history[\"test_acc\"].append(acc)\n",
    "\n",
    "        print(f\"Época {epoch}/{epochs} - Loss: {avg_loss:.4f} | Test Acc: {acc:.4f}\")\n",
    "\n",
    "    return history"
   ]
  },
  {
   "cell_type": "code",
   "execution_count": null,
   "id": "4f45e9e8-62e7-4484-ab6f-bd1846f18fcd",
   "metadata": {},
   "outputs": [
    {
     "name": "stdout",
     "output_type": "stream",
     "text": [
      "\n",
      "Entrenando modelo ResNet18...\n"
     ]
    },
    {
     "name": "stderr",
     "output_type": "stream",
     "text": [
      "C:\\Users\\javier\\miniconda3\\envs\\dl_20252\\Lib\\site-packages\\torch\\utils\\data\\dataloader.py:666: UserWarning: 'pin_memory' argument is set as true but no accelerator is found, then device pinned memory won't be used.\n",
      "  warnings.warn(warn_msg)\n"
     ]
    },
    {
     "name": "stdout",
     "output_type": "stream",
     "text": [
      "Época 1/30 - Loss: 1.0950 | Test Acc: 0.4211\n",
      "Época 2/30 - Loss: 0.9480 | Test Acc: 0.5789\n",
      "Época 3/30 - Loss: 0.8216 | Test Acc: 0.8947\n",
      "Época 4/30 - Loss: 0.7287 | Test Acc: 0.5263\n"
     ]
    }
   ],
   "source": [
    "# =====================================\n",
    "# ENTRENAMIENTO\n",
    "# =====================================\n",
    "print(\"\\nEntrenando modelo ResNet18...\")\n",
    "history = train_model(resnet18, train_loader, test_loader, optimizer, criterion, epochs=30)\n",
    "\n",
    "final_acc = evaluate_model(resnet18, test_loader)\n",
    "print(f\"\\n✅ Accuracy final de ResNet18: {final_acc:.2f}\")"
   ]
  },
  {
   "cell_type": "code",
   "execution_count": null,
   "id": "07a3077e-287c-4bcb-a18f-9a544248895f",
   "metadata": {},
   "outputs": [],
   "source": [
    "# =====================================\n",
    "# PLOT DE LOSS Y ACCURACY\n",
    "# =====================================\n",
    "epochs = range(1, len(history[\"train_loss\"]) + 1)\n",
    "plt.figure(figsize=(10,4))\n",
    "\n",
    "plt.subplot(1,2,1)\n",
    "plt.plot(epochs, history[\"train_loss\"], 'b-o')\n",
    "plt.title(\"Pérdida (Loss) de entrenamiento\")\n",
    "plt.xlabel(\"Épocas\")\n",
    "plt.ylabel(\"Loss\")\n",
    "\n",
    "plt.subplot(1,2,2)\n",
    "plt.plot(epochs, history[\"test_acc\"], 'r-o')\n",
    "plt.title(\"Exactitud (Accuracy) en Test\")\n",
    "plt.xlabel(\"Épocas\")\n",
    "plt.ylabel(\"Accuracy\")\n",
    "\n",
    "plt.tight_layout()\n",
    "plt.show()"
   ]
  },
  {
   "cell_type": "markdown",
   "id": "c676ccf1-9f05-4723-a163-3c55928b53b0",
   "metadata": {},
   "source": [
    "## Punto 2 "
   ]
  },
  {
   "cell_type": "code",
   "execution_count": null,
   "id": "2b6de53e",
   "metadata": {},
   "outputs": [],
   "source": [
    "# =====================================\n",
    "# TRANSFORMACIONES (3 canales para ResNet)\n",
    "# =====================================\n",
    "transform_train = transforms.Compose([\n",
    "    transforms.Resize((224, 224)),\n",
    "    transforms.RandomHorizontalFlip(),\n",
    "    transforms.RandomRotation(10),\n",
    "    transforms.ToTensor(),\n",
    "    transforms.Normalize([0.485, 0.456, 0.406],\n",
    "                         [0.229, 0.224, 0.225])\n",
    "])\n",
    "transform_test = transforms.Compose([\n",
    "    transforms.Resize((224, 224)),\n",
    "    transforms.ToTensor(),\n",
    "    transforms.Normalize([0.485, 0.456, 0.406],\n",
    "                         [0.229, 0.224, 0.225])\n",
    "])"
   ]
  },
  {
   "cell_type": "code",
   "execution_count": null,
   "id": "ed79628e-dfb8-4145-b6fb-4fb9d96e9f01",
   "metadata": {},
   "outputs": [],
   "source": [
    "# =====================================\n",
    "# CARGA DE DATOS Y PARTICIÓN\n",
    "# =====================================\n",
    "dataset = datasets.ImageFolder(\"DataSnake/CLASIFICADOR SNAKES\")\n",
    "class_names = dataset.classes\n",
    "targets = np.array(dataset.targets)\n",
    "\n",
    "train_idx, test_idx = train_test_split(\n",
    "    np.arange(len(targets)),\n",
    "    test_size=0.1,\n",
    "    stratify=targets,\n",
    "    random_state=42\n",
    ")\n",
    "\n",
    "train_dataset = datasets.ImageFolder(\"DataSnake/CLASIFICADOR SNAKES\", transform=transform_train)\n",
    "test_dataset = datasets.ImageFolder(\"DataSnake/CLASIFICADOR SNAKES\", transform=transform_test)\n",
    "\n",
    "train_dataset = Subset(train_dataset, train_idx)\n",
    "test_dataset = Subset(test_dataset, test_idx)\n",
    "\n",
    "batch_size = 16\n",
    "train_loader = DataLoader(train_dataset, batch_size=batch_size, shuffle=True, num_workers=4, pin_memory=True)\n",
    "test_loader = DataLoader(test_dataset, batch_size=batch_size, shuffle=False, num_workers=4, pin_memory=True)\n"
   ]
  },
  {
   "cell_type": "code",
   "execution_count": null,
   "id": "d552641c-7544-4d90-a670-f1b394ef0559",
   "metadata": {},
   "outputs": [],
   "source": [
    "# =====================================\n",
    "# CARGAR RESNET18 PREENTRENADA (fine-tuning completo)\n",
    "# =====================================\n",
    "resnet18 = models.resnet18(weights=ResNet18_Weights.DEFAULT)\n",
    "\n",
    "# 🔓 Descongelar TODAS las capas (fine-tuning completo)\n",
    "for param in resnet18.parameters():\n",
    "    param.requires_grad = True\n",
    "\n",
    "# Reemplazar la capa final (fc)\n",
    "num_features = resnet18.fc.in_features\n",
    "resnet18.fc = nn.Sequential(\n",
    "    nn.Linear(num_features, 128),\n",
    "    nn.ReLU(),\n",
    "    nn.Dropout(0.3),\n",
    "    nn.Linear(128, len(class_names))\n",
    ")\n",
    "\n",
    "resnet18 = resnet18.to(device)\n",
    "\n",
    "# 🔥 Importante: tasa de aprendizaje más baja al hacer fine-tuning\n",
    "optimizer = optim.Adam(resnet18.parameters(), lr=1e-4)  # antes 1e-3\n",
    "criterion = nn.CrossEntropyLoss()"
   ]
  },
  {
   "cell_type": "code",
   "execution_count": null,
   "id": "eb337bcc-fa38-4df9-9081-67b8faed3a6b",
   "metadata": {},
   "outputs": [],
   "source": [
    "# =====================================\n",
    "# FUNCIONES DE ENTRENAMIENTO Y EVALUACIÓN\n",
    "# =====================================\n",
    "def evaluate_model(model, loader):\n",
    "    model.eval()\n",
    "    correct, total = 0, 0\n",
    "    with torch.no_grad():\n",
    "        for inputs, labels in loader:\n",
    "            inputs, labels = inputs.to(device), labels.to(device)\n",
    "            outputs = model(inputs)\n",
    "            _, preds = torch.max(outputs, 1)\n",
    "            correct += (preds == labels).sum().item()\n",
    "            total += labels.size(0)\n",
    "    return correct / total\n",
    "\n",
    "def train_model(model, train_loader, test_loader, optimizer, criterion, epochs=10):\n",
    "    history = {\"train_loss\": [], \"test_acc\": []}\n",
    "\n",
    "    for epoch in range(1, epochs + 1):\n",
    "        model.train()\n",
    "        total_loss = 0\n",
    "\n",
    "        for inputs, labels in train_loader:\n",
    "            inputs, labels = inputs.to(device), labels.to(device)\n",
    "            optimizer.zero_grad()\n",
    "            outputs = model(inputs)\n",
    "            loss = criterion(outputs, labels)\n",
    "            loss.backward()\n",
    "            optimizer.step()\n",
    "            total_loss += loss.item() * inputs.size(0)\n",
    "\n",
    "        avg_loss = total_loss / len(train_loader.dataset)\n",
    "        acc = evaluate_model(model, test_loader)\n",
    "\n",
    "        history[\"train_loss\"].append(avg_loss)\n",
    "        history[\"test_acc\"].append(acc)\n",
    "\n",
    "        print(f\"Época {epoch}/{epochs} - Loss: {avg_loss:.4f} | Test Acc: {acc:.4f}\")\n",
    "\n",
    "    return history\n",
    "\n"
   ]
  },
  {
   "cell_type": "code",
   "execution_count": null,
   "id": "588cb752-7c42-46fe-a894-7d21bc06aace",
   "metadata": {},
   "outputs": [],
   "source": [
    "# =====================================\n",
    "# ENTRENAMIENTO\n",
    "# =====================================\n",
    "print(\"\\nEntrenando modelo ResNet18 (fine-tuning completo)...\")\n",
    "history = train_model(resnet18, train_loader, test_loader, optimizer, criterion, epochs=30)\n",
    "\n",
    "final_acc = evaluate_model(resnet18, test_loader)\n",
    "print(f\"\\n✅ Accuracy final de ResNet18 (fine-tuning): {final_acc:.2f}\")"
   ]
  },
  {
   "cell_type": "code",
   "execution_count": null,
   "id": "3ec7f8ca-e1dd-4e46-86fd-1cf36ec674de",
   "metadata": {},
   "outputs": [],
   "source": [
    "# =====================================\n",
    "# PLOT DE LOSS Y ACCURACY\n",
    "# =====================================\n",
    "epochs = range(1, len(history[\"train_loss\"]) + 1)\n",
    "plt.figure(figsize=(10,4))\n",
    "\n",
    "plt.subplot(1,2,1)\n",
    "plt.plot(epochs, history[\"train_loss\"], 'b-o')\n",
    "plt.title(\"Pérdida (Loss) de entrenamiento\")\n",
    "plt.xlabel(\"Épocas\")\n",
    "plt.ylabel(\"Loss\")\n",
    "\n",
    "plt.subplot(1,2,2)\n",
    "plt.plot(epochs, history[\"test_acc\"], 'r-o')\n",
    "plt.title(\"Exactitud (Accuracy) en Test\")\n",
    "plt.xlabel(\"Épocas\")\n",
    "plt.ylabel(\"Accuracy\")\n",
    "\n",
    "plt.tight_layout()\n",
    "plt.show()"
   ]
  }
 ],
 "metadata": {
  "kernelspec": {
   "display_name": "Python 3 (ipykernel)",
   "language": "python",
   "name": "python3"
  },
  "language_info": {
   "codemirror_mode": {
    "name": "ipython",
    "version": 3
   },
   "file_extension": ".py",
   "mimetype": "text/x-python",
   "name": "python",
   "nbconvert_exporter": "python",
   "pygments_lexer": "ipython3",
   "version": "3.12.0"
  }
 },
 "nbformat": 4,
 "nbformat_minor": 5
}
